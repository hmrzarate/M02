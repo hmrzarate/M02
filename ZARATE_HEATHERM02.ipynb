{
 "cells": [
  {
   "cell_type": "code",
   "execution_count": 1,
   "id": "6b107fff",
   "metadata": {},
   "outputs": [
    {
     "name": "stdout",
     "output_type": "stream",
     "text": [
      "Enter the student's last name or ZZZ to quit: Thomas\n",
      "Please enter the student's GPA: 3.30\n",
      "Congratulations! You have made the Honor Roll!\n",
      "Enter the student's last name or ZZZ to quit: William\n",
      "Please enter the student's GPA: 4.0\n",
      "Congratulations! You have made the Dean's List!\n",
      "Enter the student's last name or ZZZ to quit: ZZZ\n",
      "End of program.\n"
     ]
    }
   ],
   "source": [
    "# Program Name: ZARATE_HEATHER_M02\n",
    "# Author: Heather Zarate\n",
    "# Date: 9/1/2022\n",
    "# Summary: Determine whether a student qualifies for the dean's list or the Honor Roll by their GPA\n",
    "# Variables:\n",
    "#   students_last_name: last name of the student entered by the user\n",
    "#   GPA: student's GPA entered by the user (float)\n",
    "\n",
    "# Set an initial value for students_last_name other than the value for 'quit'.\n",
    "students_last_name = ''\n",
    "\n",
    "# Start a loop that runs until the user enters the value for 'quit'.\n",
    "while students_last_name != \"ZZZ\":\n",
    "    \n",
    "    #Ask for student's last name\n",
    "    students_last_name = input(\"Enter the student's last name or ZZZ to quit: \")\n",
    "    \n",
    "    # If user enters ZZZ quit program\n",
    "    if students_last_name == \"ZZZ\":\n",
    "        print(\"End of program.\")\n",
    "        break\n",
    "\n",
    "   #Ask for student's GPA\n",
    "    GPA = float(input(\"Please enter the student's GPA: \"))\n",
    "\n",
    "\n",
    "   #Respond to user's input\n",
    "    if GPA > 3.25 and GPA < 3.5:\n",
    "        print(\"Congratulations! You have made the Honor Roll!\")\n",
    "    \n",
    "    elif GPA >= 3.5:\n",
    "        print(\"Congratulations! You have made the Dean's List!\")"
   ]
  },
  {
   "cell_type": "code",
   "execution_count": null,
   "id": "92692114",
   "metadata": {},
   "outputs": [],
   "source": []
  }
 ],
 "metadata": {
  "kernelspec": {
   "display_name": "Python 3 (ipykernel)",
   "language": "python",
   "name": "python3"
  },
  "language_info": {
   "codemirror_mode": {
    "name": "ipython",
    "version": 3
   },
   "file_extension": ".py",
   "mimetype": "text/x-python",
   "name": "python",
   "nbconvert_exporter": "python",
   "pygments_lexer": "ipython3",
   "version": "3.9.12"
  }
 },
 "nbformat": 4,
 "nbformat_minor": 5
}
